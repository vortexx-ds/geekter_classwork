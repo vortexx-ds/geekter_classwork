{
 "cells": [
  {
   "cell_type": "code",
   "execution_count": 1,
   "id": "c35ac3a5-ab2e-4b2a-9a81-2fe02fa5b488",
   "metadata": {},
   "outputs": [],
   "source": [
    "import os"
   ]
  },
  {
   "cell_type": "code",
   "execution_count": 3,
   "id": "a6ba32ea-e35b-4a70-8033-54ac13b04e42",
   "metadata": {},
   "outputs": [],
   "source": [
    "import shutil"
   ]
  },
  {
   "cell_type": "code",
   "execution_count": 7,
   "id": "5e5933c9-84de-4f58-a5ec-57ef440b9493",
   "metadata": {},
   "outputs": [],
   "source": [
    "new_dir = \"n_directory\" #1st step\n",
    "os.mkdir(new_dir)"
   ]
  },
  {
   "cell_type": "code",
   "execution_count": 9,
   "id": "6534bb04-17ed-41c3-b940-252f3a0f4be2",
   "metadata": {},
   "outputs": [
    {
     "data": {
      "text/plain": [
       "'n_directory'"
      ]
     },
     "execution_count": 9,
     "metadata": {},
     "output_type": "execute_result"
    }
   ],
   "source": [
    "new_dir"
   ]
  },
  {
   "cell_type": "code",
   "execution_count": 11,
   "id": "f64c0266-a339-401b-a382-0ce478ef1bb4",
   "metadata": {},
   "outputs": [
    {
     "data": {
      "text/plain": [
       "['.anaconda',\n",
       " '.bash_history',\n",
       " '.cache',\n",
       " '.conda',\n",
       " '.condarc',\n",
       " '.continuum',\n",
       " '.gitconfig',\n",
       " '.ipynb_checkpoints',\n",
       " '.ipython',\n",
       " '.jupyter',\n",
       " '.lesshst',\n",
       " '.ms-ad',\n",
       " '.viminfo',\n",
       " '.vscode',\n",
       " 'anaconda3',\n",
       " 'anaconda_projects',\n",
       " 'AppData',\n",
       " 'Application Data',\n",
       " 'cd',\n",
       " 'classwork 2.ipynb',\n",
       " 'Contacts',\n",
       " 'Cookies',\n",
       " 'Desktop',\n",
       " 'Documents',\n",
       " 'Downloads',\n",
       " 'Favorites',\n",
       " 'geekster',\n",
       " 'Links',\n",
       " 'Local Settings',\n",
       " 'Music',\n",
       " 'My Documents',\n",
       " 'NetHood',\n",
       " 'new',\n",
       " 'NTUSER.DAT',\n",
       " 'ntuser.dat.LOG1',\n",
       " 'ntuser.dat.LOG2',\n",
       " 'NTUSER.DAT{2ad838bc-efea-11ee-a54d-000d3a94eaa1}.TM.blf',\n",
       " 'NTUSER.DAT{2ad838bc-efea-11ee-a54d-000d3a94eaa1}.TMContainer00000000000000000001.regtrans-ms',\n",
       " 'NTUSER.DAT{2ad838bc-efea-11ee-a54d-000d3a94eaa1}.TMContainer00000000000000000002.regtrans-ms',\n",
       " 'ntuser.ini',\n",
       " 'Numpy.ipynb',\n",
       " 'n_directory',\n",
       " 'OneDrive',\n",
       " 'Pandas.ipynb',\n",
       " 'Pictures',\n",
       " 'PrintHood',\n",
       " 'Recent',\n",
       " 'Saved Games',\n",
       " 'Searches',\n",
       " 'Selenium.ipynb',\n",
       " 'SendTo',\n",
       " 'settings.json',\n",
       " 'Start Menu',\n",
       " 'Templates',\n",
       " 'Untitled.ipynb',\n",
       " 'Videos']"
      ]
     },
     "execution_count": 11,
     "metadata": {},
     "output_type": "execute_result"
    }
   ],
   "source": [
    "os.listdir() #2nd step"
   ]
  },
  {
   "cell_type": "code",
   "execution_count": 69,
   "id": "ee6a3e40-b68d-4ba8-b31a-2c5c6870800f",
   "metadata": {},
   "outputs": [],
   "source": [
    "file_name = \"firstfile.txt\" #3rd step"
   ]
  },
  {
   "cell_type": "code",
   "execution_count": 71,
   "id": "059dc75d-bbee-4ce1-8891-32821fc69518",
   "metadata": {},
   "outputs": [],
   "source": [
    "file_path = os.path.join(new_dir,file_name)\n",
    "with open(file_path, \"w\") as file:\n",
    "    file.write(\"This is the 1st file.\")"
   ]
  },
  {
   "cell_type": "code",
   "execution_count": 73,
   "id": "a3a73ea9-63b4-4223-829e-5354504d0d36",
   "metadata": {},
   "outputs": [
    {
     "data": {
      "text/plain": [
       "'firstfile.txt'"
      ]
     },
     "execution_count": 73,
     "metadata": {},
     "output_type": "execute_result"
    }
   ],
   "source": [
    "file_name"
   ]
  },
  {
   "cell_type": "code",
   "execution_count": 75,
   "id": "713987c6-6644-41f2-ba9e-f8a5af77d61b",
   "metadata": {},
   "outputs": [],
   "source": [
    "with open(file_path,\"r\") as file: #4th step\n",
    "    content = file.read()"
   ]
  },
  {
   "cell_type": "code",
   "execution_count": 77,
   "id": "fd38036d-ea5e-4efc-a613-1adcf46b7cd5",
   "metadata": {},
   "outputs": [
    {
     "name": "stdout",
     "output_type": "stream",
     "text": [
      "firstfile.txt: This is the 1st file.\n"
     ]
    }
   ],
   "source": [
    "print(f\"{file_name}: {content}\")"
   ]
  },
  {
   "cell_type": "code",
   "execution_count": 83,
   "id": "0cc64ff9-2556-4e22-b044-021d3f264ec3",
   "metadata": {},
   "outputs": [],
   "source": [
    "renamed_file = \"newfirstfile.txt\"   #5th step\n",
    "new_file_path = os.path.join(new_dir, renamed_file)\n",
    "os.rename(file_path, new_file_path)"
   ]
  },
  {
   "cell_type": "code",
   "execution_count": 85,
   "id": "8f821281-dbef-4b14-9a7b-9f7908c37620",
   "metadata": {},
   "outputs": [
    {
     "data": {
      "text/plain": [
       "'n_directory\\\\newfirstfile.txt'"
      ]
     },
     "execution_count": 85,
     "metadata": {},
     "output_type": "execute_result"
    }
   ],
   "source": [
    "new_file_path"
   ]
  },
  {
   "cell_type": "code",
   "execution_count": 91,
   "id": "ca9b701a-62b9-4209-ac07-7006494dc7bc",
   "metadata": {},
   "outputs": [
    {
     "name": "stdout",
     "output_type": "stream",
     "text": [
      "Contents of 'n_directory':\n",
      "['newfirstfile.txt', 'new_firstfile.txt']\n"
     ]
    }
   ],
   "source": [
    "print(f\"Contents of '{new_dir}':\") #6th step\n",
    "print(os.listdir(new_dir))"
   ]
  },
  {
   "cell_type": "code",
   "execution_count": 93,
   "id": "dbde8d22-5267-4604-83dc-e76378dd5cd8",
   "metadata": {},
   "outputs": [],
   "source": [
    "shutil.rmtree(new_dir)   #7th step"
   ]
  },
  {
   "cell_type": "code",
   "execution_count": 95,
   "id": "eb93bd75-4f78-474d-a93c-3e2e8b4b5d6d",
   "metadata": {},
   "outputs": [
    {
     "name": "stdout",
     "output_type": "stream",
     "text": [
      "Directory 'n_directory' and its contents deleted.\n"
     ]
    }
   ],
   "source": [
    "print(f\"Directory '{new_dir}' and its contents deleted.\")"
   ]
  },
  {
   "cell_type": "code",
   "execution_count": null,
   "id": "db7ac6f4-cdf6-47d3-a45c-939281f2963e",
   "metadata": {},
   "outputs": [],
   "source": []
  },
  {
   "cell_type": "code",
   "execution_count": null,
   "id": "7fdf8982-dd4a-4eb5-92c1-60f7f4b496b2",
   "metadata": {},
   "outputs": [],
   "source": []
  },
  {
   "cell_type": "code",
   "execution_count": null,
   "id": "13dab59b-ef01-4b60-bd08-0fb23a909722",
   "metadata": {},
   "outputs": [],
   "source": []
  },
  {
   "cell_type": "code",
   "execution_count": null,
   "id": "fdb8ce77-b0ce-4d87-9c47-e56643d4b814",
   "metadata": {},
   "outputs": [],
   "source": []
  },
  {
   "cell_type": "code",
   "execution_count": null,
   "id": "5c2c5dd8-922a-4ebc-8208-a3abc6fc8c25",
   "metadata": {},
   "outputs": [],
   "source": []
  }
 ],
 "metadata": {
  "kernelspec": {
   "display_name": "Python [conda env:anaconda3] *",
   "language": "python",
   "name": "conda-env-anaconda3-py"
  },
  "language_info": {
   "codemirror_mode": {
    "name": "ipython",
    "version": 3
   },
   "file_extension": ".py",
   "mimetype": "text/x-python",
   "name": "python",
   "nbconvert_exporter": "python",
   "pygments_lexer": "ipython3",
   "version": "3.12.8"
  }
 },
 "nbformat": 4,
 "nbformat_minor": 5
}
